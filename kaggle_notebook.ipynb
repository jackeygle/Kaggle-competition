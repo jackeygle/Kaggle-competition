{
  "cells": [
    {
      "cell_type": "markdown",
      "metadata": {},
      "source": [
        "# \ud83d\ude80 Jigsaw Ultimate Training Script\n",
        "\n",
        "\u8fd9\u662f\u4e00\u4e2a\u9ad8\u6027\u80fd\u7684\u591a\u6807\u7b7e\u5206\u7c7b\u8bad\u7ec3\u811a\u672c\uff0c\u76ee\u6807AUC \u2265 0.99\n",
        "\n",
        "## \ud83d\udcca \u7279\u6027\n",
        "- \u2705 \u81ea\u52a8\u4f18\u5316\u5faa\u73af\n",
        "- \u2705 \u591a\u6a21\u578b\u96c6\u6210\n",
        "- \u2705 GPU\u52a0\u901f\u652f\u6301\n",
        "- \u2705 \u8be6\u7ec6\u65e5\u5fd7\u8f93\u51fa\n"
      ]
    },
    {
      "cell_type": "code",
      "execution_count": null,
      "metadata": {},
      "source": [
        "# \u5bfc\u5165\u4ee3\u7801\u6587\u4ef6\n",
        "import sys\n",
        "sys.path.append('../input/jigsaw-ultimate-solution')\n",
        "\n",
        "# \u68c0\u67e5GPU\u53ef\u7528\u6027\n",
        "import torch\n",
        "print(f\"GPU\u53ef\u7528: {torch.cuda.is_available()}\")\n",
        "if torch.cuda.is_available():\n",
        "    print(f\"GPU\u578b\u53f7: {torch.cuda.get_device_name()}\")\n",
        "    print(f\"GPU\u5185\u5b58: {torch.cuda.get_device_properties(0).total_memory / 1e9:.1f} GB\")"
      ]
    },
    {
      "cell_type": "code",
      "execution_count": null,
      "metadata": {},
      "source": [
        "# \u65b9\u68481: \u8fd0\u884c\u8f7b\u91cf\u7ea7\u7248\u672c\uff08\u63a8\u8350\uff09\n",
        "exec(open('../input/jigsaw-ultimate-solution/jigsaw_kaggle_test.py').read())"
      ]
    },
    {
      "cell_type": "code",
      "execution_count": null,
      "metadata": {},
      "source": [
        "# \u65b9\u68482: \u8fd0\u884c\u7ec8\u6781\u7248\uff08\u9700\u8981\u5b89\u88c5\u989d\u5916\u4f9d\u8d56\uff09\n",
        "# !pip install transformers torch torchvision\n",
        "# exec(open('../input/jigsaw-ultimate-solution/jigsaw_ultimate_kaggle_script.py').read())"
      ]
    },
    {
      "cell_type": "code",
      "execution_count": null,
      "metadata": {},
      "source": [
        "# \u68c0\u67e5\u8f93\u51fa\u6587\u4ef6\n",
        "import os\n",
        "import pandas as pd\n",
        "\n",
        "# \u5217\u51fa\u8f93\u51fa\u6587\u4ef6\n",
        "print(\"\ud83d\udcc1 \u8f93\u51fa\u6587\u4ef6:\")\n",
        "for file in os.listdir('/kaggle/working'):\n",
        "    print(f\"  - {file}\")\n",
        "\n",
        "# \u68c0\u67e5\u63d0\u4ea4\u6587\u4ef6\n",
        "if os.path.exists('/kaggle/working/submission_ultimate.csv'):\n",
        "    submission = pd.read_csv('/kaggle/working/submission_ultimate.csv')\n",
        "    print(f\"\\n\ud83d\udcca \u63d0\u4ea4\u6587\u4ef6\u7edf\u8ba1:\")\n",
        "    print(f\"  \u6837\u672c\u6570: {len(submission)}\")\n",
        "    print(f\"  \u5217\u6570: {len(submission.columns)}\")\n",
        "    print(f\"  \u5217\u540d: {list(submission.columns)}\")\n",
        "    print(f\"\\n\ud83d\udcc8 \u9884\u6d4b\u7edf\u8ba1:\")\n",
        "    for col in submission.columns[1:]:\n",
        "        mean_val = submission[col].mean()\n",
        "        std_val = submission[col].std()\n",
        "        print(f\"  {col}: \u5747\u503c={mean_val:.4f}, \u6807\u51c6\u5dee={std_val:.4f}\")"
      ]
    }
  ],
  "metadata": {
    "kernelspec": {
      "display_name": "Python 3",
      "language": "python",
      "name": "python3"
    },
    "language_info": {
      "name": "python",
      "version": "3.7.12"
    }
  },
  "nbformat": 4,
  "nbformat_minor": 4
}